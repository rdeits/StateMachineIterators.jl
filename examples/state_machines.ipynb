{
 "cells": [
  {
   "cell_type": "markdown",
   "metadata": {},
   "source": [
    "# StateMachineIterators\n",
    "\n",
    "This package implements a general-purpose finite state machine, consisting of a set of states and transitions between those states. Each transition is defined by a function, which returns `true` when that transition should occur. \n",
    "\n",
    "It also defines the StateMachineIterator type, which allows finite state machines to be used as generic Julia iterators. \n",
    "\n",
    "For example, here is a simple state machine, inspired by the example from [FiniteStateMachine.jl](https://github.com/tinybike/FiniteStateMachine.jl):\n"
   ]
  },
  {
   "cell_type": "code",
   "execution_count": 1,
   "metadata": {
    "collapsed": false
   },
   "outputs": [],
   "source": [
    "using StateMachineIterators"
   ]
  },
  {
   "cell_type": "code",
   "execution_count": 2,
   "metadata": {
    "collapsed": false
   },
   "outputs": [
    {
     "data": {
      "text/plain": [
       "StateMachine with states: [:third,:first,:second,:fourth]\n",
       "    initial state: first\n",
       "    final state: fourth"
      ]
     },
     "execution_count": 2,
     "metadata": {},
     "output_type": "execute_result"
    }
   ],
   "source": [
    "# Construct a new state machine. The syntax is:\n",
    "# StateMachine(initial_state, final_state, transitions)\n",
    "# where each transition is a tuple of:\n",
    "#   (from_state, check_function, to_state)\n",
    "machine = StateMachine(:first, :fourth, \n",
    "    [(:first, event -> event == :hop, :second),\n",
    "     (:second, event -> event == :skip, :third),\n",
    "     (:third, event -> event == :jump, :fourth)])"
   ]
  },
  {
   "cell_type": "markdown",
   "metadata": {},
   "source": [
    "We can step through the state machine by calling nextstate(). Note that this returns a new state, rather than mutating the state machine itself."
   ]
  },
  {
   "cell_type": "code",
   "execution_count": 3,
   "metadata": {
    "collapsed": false
   },
   "outputs": [
    {
     "data": {
      "text/plain": [
       ":first"
      ]
     },
     "execution_count": 3,
     "metadata": {},
     "output_type": "execute_result"
    }
   ],
   "source": [
    "state = initial(machine)"
   ]
  },
  {
   "cell_type": "code",
   "execution_count": 4,
   "metadata": {
    "collapsed": false
   },
   "outputs": [
    {
     "data": {
      "text/plain": [
       ":second"
      ]
     },
     "execution_count": 4,
     "metadata": {},
     "output_type": "execute_result"
    }
   ],
   "source": [
    "state = nextstate(machine, state, :hop)"
   ]
  },
  {
   "cell_type": "code",
   "execution_count": 5,
   "metadata": {
    "collapsed": false
   },
   "outputs": [
    {
     "data": {
      "text/plain": [
       ":third"
      ]
     },
     "execution_count": 5,
     "metadata": {},
     "output_type": "execute_result"
    }
   ],
   "source": [
    "state = nextstate(machine, state, :skip)"
   ]
  },
  {
   "cell_type": "code",
   "execution_count": 6,
   "metadata": {
    "collapsed": false
   },
   "outputs": [
    {
     "data": {
      "text/plain": [
       ":fourth"
      ]
     },
     "execution_count": 6,
     "metadata": {},
     "output_type": "execute_result"
    }
   ],
   "source": [
    "state = nextstate(machine, state, :jump)"
   ]
  },
  {
   "cell_type": "code",
   "execution_count": 7,
   "metadata": {
    "collapsed": false
   },
   "outputs": [
    {
     "data": {
      "text/plain": [
       "true"
      ]
     },
     "execution_count": 7,
     "metadata": {},
     "output_type": "execute_result"
    }
   ],
   "source": [
    "finished(machine, state)"
   ]
  },
  {
   "cell_type": "markdown",
   "metadata": {},
   "source": [
    "Let's step through all the states in the state machine:"
   ]
  },
  {
   "cell_type": "code",
   "execution_count": 8,
   "metadata": {
    "collapsed": false
   },
   "outputs": [
    {
     "name": "stdout",
     "output_type": "stream",
     "text": [
      "state = :first\n",
      "state = :second\n",
      "state = :third\n",
      "state = :fourth\n"
     ]
    }
   ],
   "source": [
    "state = initial(machine)\n",
    "@show state\n",
    "while !finished(machine, state)\n",
    "    if state == :first\n",
    "        event = :hop\n",
    "    elseif state == :second\n",
    "        event = :skip\n",
    "    else\n",
    "        event = :jump\n",
    "    end\n",
    "    state = nextstate(machine, state, event)\n",
    "    @show state\n",
    "end"
   ]
  },
  {
   "cell_type": "markdown",
   "metadata": {},
   "source": [
    "This should look suspiciously like the generic Julia iterator protocol. To use the state machine as a real iterator, we just need to provide it with a function returning the input to its transition functions:"
   ]
  },
  {
   "cell_type": "code",
   "execution_count": 9,
   "metadata": {
    "collapsed": false
   },
   "outputs": [
    {
     "name": "stdout",
     "output_type": "stream",
     "text": [
      "state = :second\n",
      "state = :third\n",
      "state = :fourth\n",
      "state = :fourth\n"
     ]
    },
    {
     "data": {
      "text/plain": [
       ":fourth"
      ]
     },
     "execution_count": 9,
     "metadata": {},
     "output_type": "execute_result"
    }
   ],
   "source": [
    "event = :hop\n",
    "for state in StateMachineIterator(machine, () -> event)\n",
    "    if state == :first\n",
    "        event = :hop\n",
    "    elseif state == :second\n",
    "        event = :skip\n",
    "    else\n",
    "        event = :jump\n",
    "    end\n",
    "    @show state\n",
    "end\n",
    "@show state"
   ]
  },
  {
   "cell_type": "markdown",
   "metadata": {},
   "source": [
    "Let's look at a more complex example. We'll use a state machine to define a simple oscillator to increment our variable x until x >= 10, then decrement it until x <= 1, then terminate. "
   ]
  },
  {
   "cell_type": "code",
   "execution_count": 10,
   "metadata": {
    "collapsed": false
   },
   "outputs": [
    {
     "name": "stdout",
     "output_type": "stream",
     "text": [
      "x: 1\tstate: going_up\n",
      "x: 2\tstate: going_up\n",
      "x: 3\tstate: going_up\n",
      "x: 4\tstate: going_up\n",
      "x: 5\tstate: going_up\n",
      "x: 6\tstate: going_up\n",
      "x: 7\tstate: going_up\n",
      "x: 8\tstate: going_up\n",
      "x: 9\tstate: going_up\n",
      "x: 10\tstate: going_down\n",
      "x: 9\tstate: going_down\n",
      "x: 8\tstate: going_down\n",
      "x: 7\tstate: going_down\n",
      "x: 6\tstate: going_down\n",
      "x: 5\tstate: going_down\n",
      "x: 4\tstate: going_down\n",
      "x: 3\tstate: going_down\n",
      "x: 2\tstate: going_down\n",
      "x: 1\tstate: final\n"
     ]
    }
   ],
   "source": [
    "machine = StateMachine(:going_up, :final, \n",
    "   [(:going_up, x -> x >= 10, :going_down),\n",
    "    (:going_down, x -> x <= 1, :final)])\n",
    "\n",
    "behaviors = Dict(:going_up => x -> x + 1,\n",
    "                 :going_down => x -> x - 1,\n",
    "                 :final => x -> x)\n",
    "\n",
    "# Iterate through states of the machine\n",
    "x = 1\n",
    "state = initial(machine)\n",
    "while !finished(machine, state)\n",
    "    state = nextstate(machine, state, x)\n",
    "    println(\"x: \", x, \"\\tstate: \", state)\n",
    "    x = behaviors[state](x)\n",
    "end"
   ]
  },
  {
   "cell_type": "markdown",
   "metadata": {},
   "source": [
    "Using the StateMachineIterator makes this a bit simpler:"
   ]
  },
  {
   "cell_type": "code",
   "execution_count": 11,
   "metadata": {
    "collapsed": false
   },
   "outputs": [
    {
     "name": "stdout",
     "output_type": "stream",
     "text": [
      "x: 1\tstate: going_up\n",
      "x: 2\tstate: going_up\n",
      "x: 3\tstate: going_up\n",
      "x: 4\tstate: going_up\n",
      "x: 5\tstate: going_up\n",
      "x: 6\tstate: going_up\n",
      "x: 7\tstate: going_up\n",
      "x: 8\tstate: going_up\n",
      "x: 9\tstate: going_up\n",
      "x: 10\tstate: going_down\n",
      "x: 9\tstate: going_down\n",
      "x: 8\tstate: going_down\n",
      "x: 7\tstate: going_down\n",
      "x: 6\tstate: going_down\n",
      "x: 5\tstate: going_down\n",
      "x: 4\tstate: going_down\n",
      "x: 3\tstate: going_down\n",
      "x: 2\tstate: going_down\n",
      "x: 1\tstate: final\n"
     ]
    }
   ],
   "source": [
    "machine = StateMachine(:going_up, :final, \n",
    "   [(:going_up, x -> x >= 10, :going_down),\n",
    "    (:going_down, x -> x <= 1, :final)])\n",
    "\n",
    "behaviors = Dict(:going_up => x -> x + 1,\n",
    "                 :going_down => x -> x - 1,\n",
    "                 :final => x -> x)\n",
    "\n",
    "x = 1\n",
    "for state in StateMachineIterator(machine, () -> x)\n",
    "    println(\"x: \", x, \"\\tstate: \", state)\n",
    "    x = behaviors[state](x)\n",
    "end"
   ]
  },
  {
   "cell_type": "markdown",
   "metadata": {},
   "source": [
    "Now that we have an iterator, we can use the rest of Julia's general iterator routines to combine state machines. Here's a simple example, in which x rises from 1 to 10 then falls back to 1, while y oscillates between 1 and 3 repeatedly:"
   ]
  },
  {
   "cell_type": "code",
   "execution_count": 12,
   "metadata": {
    "collapsed": false
   },
   "outputs": [
    {
     "name": "stdout",
     "output_type": "stream",
     "text": [
      "x: 1\ty: 1\n",
      "x: 2\ty: 2\n",
      "x: 3\ty: 3\n",
      "x: 4\ty: 2\n",
      "x: 5\ty: 1\n",
      "x: 6\ty: 2\n",
      "x: 7\ty: 3\n",
      "x: 8\ty: 2\n",
      "x: 9\ty: 1\n",
      "x: 10\ty: 2\n",
      "x: 9\ty: 3\n",
      "x: 8\ty: 2\n",
      "x: 7\ty: 1\n",
      "x: 6\ty: 2\n",
      "x: 5\ty: 3\n",
      "x: 4\ty: 2\n",
      "x: 3\ty: 1\n",
      "x: 2\ty: 2\n",
      "x: 1\ty: 3\n"
     ]
    }
   ],
   "source": [
    "x_machine = StateMachine(:going_up, :final, \n",
    "   [(:going_up, x -> x >= 10, :going_down),\n",
    "    (:going_down, x -> x <= 1, :final)]) # terminate when x gets back down to 1\n",
    "\n",
    "y_machine = StateMachine(:going_up, :final,\n",
    "   [(:going_up, y -> y >= 3, :going_down),\n",
    "    (:going_down, y -> y <= 1, :going_up)]) # this state machine never terminates\n",
    "\n",
    "behaviors = Dict(:going_up => a -> a + 1,\n",
    "                 :going_down => a -> a - 1,\n",
    "                 :final => a -> a)\n",
    "\n",
    "x = 1\n",
    "y = 1\n",
    "# Julia's Base.zip(iter1, iter2) lets us simultaneously execute two \n",
    "# state machines until either of them terminates.\n",
    "for (x_state, y_state) in zip(StateMachineIterator(x_machine, () -> x),\n",
    "                              StateMachineIterator(y_machine, () -> y))\n",
    "    println(\"x: \", x, \"\\ty: \", y)\n",
    "    x = behaviors[x_state](x)\n",
    "    y = behaviors[y_state](y)\n",
    "end"
   ]
  },
  {
   "cell_type": "markdown",
   "metadata": {},
   "source": [
    "We can also execute a state machine repeatedly with more of Julia's iterator tools:"
   ]
  },
  {
   "cell_type": "code",
   "execution_count": 13,
   "metadata": {
    "collapsed": false
   },
   "outputs": [
    {
     "name": "stdout",
     "output_type": "stream",
     "text": [
      "x: 1\tstate: going_up\n",
      "x: 2\tstate: going_up\n",
      "x: 3\tstate: going_up\n",
      "x: 4\tstate: going_up\n",
      "x: 5\tstate: going_up\n",
      "x: 6\tstate: going_up\n",
      "x: 7\tstate: going_up\n",
      "x: 8\tstate: going_up\n",
      "x: 9\tstate: going_up\n",
      "x: 10\tstate: going_down\n",
      "x: 9\tstate: going_down\n",
      "x: 8\tstate: going_down\n",
      "x: 7\tstate: going_down\n",
      "x: 6\tstate: going_down\n",
      "x: 5\tstate: going_down\n",
      "x: 4\tstate: going_down\n",
      "x: 3\tstate: going_down\n",
      "x: 2\tstate: going_down\n",
      "x: 1\tstate: final\n",
      "x: 1\tstate: going_up\n",
      "x: 2\tstate: going_up\n",
      "x: 3\tstate: going_up\n",
      "x: 4\tstate: going_up\n",
      "x: 5\tstate: going_up\n",
      "x: 6\tstate: going_up\n",
      "x: 7\tstate: going_up\n",
      "x: 8\tstate: going_up\n",
      "x: 9\tstate: going_up\n",
      "x: 10\tstate: going_down\n",
      "x: 9\tstate: going_down\n",
      "x: 8\tstate: going_down\n",
      "x: 7\tstate: going_down\n",
      "x: 6\tstate: going_down\n",
      "x: 5\tstate: going_down\n",
      "x: 4\tstate: going_down\n",
      "x: 3\tstate: going_down\n",
      "x: 2\tstate: going_down\n",
      "x: 1\tstate: final\n"
     ]
    }
   ],
   "source": [
    "import Iterators: chain\n",
    "\n",
    "x = 1\n",
    "for state in chain(repeated(StateMachineIterator(machine, () -> x), 2)...)\n",
    "    println(\"x: \", x, \"\\tstate: \", state)\n",
    "    x = behaviors[state](x)\n",
    "end"
   ]
  }
 ],
 "metadata": {
  "kernelspec": {
   "display_name": "Julia 0.4.5",
   "language": "julia",
   "name": "julia-0.4"
  },
  "language_info": {
   "file_extension": ".jl",
   "mimetype": "application/julia",
   "name": "julia",
   "version": "0.4.5"
  }
 },
 "nbformat": 4,
 "nbformat_minor": 0
}